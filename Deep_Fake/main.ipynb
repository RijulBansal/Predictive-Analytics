{
 "cells": [
  {
   "cell_type": "code",
   "execution_count": 4,
   "id": "15721085",
   "metadata": {},
   "outputs": [
    {
     "name": "stdout",
     "output_type": "stream",
     "text": [
      "\n",
      "\u001b[1m[\u001b[0m\u001b[34;49mnotice\u001b[0m\u001b[1;39;49m]\u001b[0m\u001b[39;49m A new release of pip is available: \u001b[0m\u001b[31;49m25.0.1\u001b[0m\u001b[39;49m -> \u001b[0m\u001b[32;49m25.1.1\u001b[0m\n",
      "\u001b[1m[\u001b[0m\u001b[34;49mnotice\u001b[0m\u001b[1;39;49m]\u001b[0m\u001b[39;49m To update, run: \u001b[0m\u001b[32;49mpip install --upgrade pip\u001b[0m\n"
     ]
    }
   ],
   "source": [
    "!pip install transformers datasets torchvision scikit-learn pandas matplotlib --quiet\n"
   ]
  },
  {
   "cell_type": "code",
   "execution_count": 5,
   "id": "3a1e9c54",
   "metadata": {},
   "outputs": [
    {
     "name": "stderr",
     "output_type": "stream",
     "text": [
      "/Users/aditya/Desktop/GITHUB REPO/Predictive-Analytics/env/lib/python3.12/site-packages/tqdm/auto.py:21: TqdmWarning: IProgress not found. Please update jupyter and ipywidgets. See https://ipywidgets.readthedocs.io/en/stable/user_install.html\n",
      "  from .autonotebook import tqdm as notebook_tqdm\n"
     ]
    }
   ],
   "source": [
    "from transformers import AutoFeatureExtractor, AutoModelForImageClassification\n",
    "from torchvision import transforms\n",
    "from PIL import Image\n",
    "import torch\n",
    "import os\n",
    "import numpy as np\n",
    "from sklearn.metrics import accuracy_score, precision_score, recall_score, f1_score, confusion_matrix\n",
    "import pandas as pd\n"
   ]
  },
  {
   "cell_type": "code",
   "execution_count": 6,
   "id": "93f257cc",
   "metadata": {},
   "outputs": [],
   "source": [
    "model_names = [\n",
    "    \"nateraw/bert-base-uncased-emotion\", \n",
    "    \"microsoft/beit-base-patch16-224\",\n",
    "    \"facebook/deit-base-patch16-224\",\n",
    "    \"google/vit-base-patch16-224\",\n",
    "    \"microsoft/resnet-50\",\n",
    "    \"microsoft/swin-base-patch4-window7-224\",\n",
    "    \"hustvl/yolos-small\",\n",
    "    \"nvidia/mit-b0\",\n",
    "    \"microsoft/convnext-base\"\n",
    "]\n"
   ]
  },
  {
   "cell_type": "code",
   "execution_count": null,
   "id": "88164c73",
   "metadata": {},
   "outputs": [],
   "source": [
    "transform = transforms.Compose([\n",
    "    transforms.Resize((224, 224)),\n",
    "    transforms.ToTensor()\n",
    "])\n",
    "\n",
    "image_dir = \"/path/to/images\" \n",
    "\n",
    "def load_images(image_dir):\n",
    "    images, labels = [], []\n",
    "    for label, subdir in enumerate(['real', 'fake']):\n",
    "        for file in os.listdir(os.path.join(image_dir, subdir)):\n",
    "            img_path = os.path.join(image_dir, subdir, file)\n",
    "            try:\n",
    "                img = Image.open(img_path).convert(\"RGB\")\n",
    "                img_tensor = transform(img)\n",
    "                images.append(img_tensor)\n",
    "                labels.append(label)\n",
    "            except Exception as e:\n",
    "                print(f\"Error loading {img_path}: {e}\")\n",
    "    return torch.stack(images), labels\n",
    "\n",
    "images, true_labels = load_images(image_dir)\n"
   ]
  },
  {
   "cell_type": "code",
   "execution_count": null,
   "id": "081da049",
   "metadata": {},
   "outputs": [],
   "source": [
    "results = []\n",
    "\n",
    "for model_id in model_names:\n",
    "    try:\n",
    "        extractor = AutoFeatureExtractor.from_pretrained(model_id)\n",
    "        model = AutoModelForImageClassification.from_pretrained(model_id)\n",
    "        model.eval()\n",
    "\n",
    "        predictions = []\n",
    "        for img in images:\n",
    "            with torch.no_grad():\n",
    "                inputs = extractor(images=img.permute(1, 2, 0).numpy(), return_tensors=\"pt\")\n",
    "                outputs = model(**inputs)\n",
    "                predicted = torch.argmax(outputs.logits, dim=1).item()\n",
    "                predictions.append(predicted)\n",
    "\n",
    "        acc = accuracy_score(true_labels, predictions)\n",
    "        prec = precision_score(true_labels, predictions, zero_division=0)\n",
    "        rec = recall_score(true_labels, predictions, zero_division=0)\n",
    "        f1 = f1_score(true_labels, predictions, zero_division=0)\n",
    "\n",
    "        tn, fp, fn, tp = confusion_matrix(true_labels, predictions).ravel()\n",
    "        sensitivity = tp / (tp + fn) if (tp + fn) else 0\n",
    "        specificity = tn / (tn + fp) if (tn + fp) else 0\n",
    "\n",
    "        results.append([sensitivity, specificity, prec, rec, f1, acc])\n",
    "\n",
    "        print(f\"Evaluated {model_id}\")\n",
    "\n",
    "    except Exception as e:\n",
    "        print(f\"Skipping {model_id} due to error: {e}\")\n",
    "        results.append([None] * 6)\n"
   ]
  },
  {
   "cell_type": "code",
   "execution_count": 7,
   "id": "34c34af3",
   "metadata": {},
   "outputs": [
    {
     "ename": "NameError",
     "evalue": "name 'results' is not defined",
     "output_type": "error",
     "traceback": [
      "\u001b[31m---------------------------------------------------------------------------\u001b[39m",
      "\u001b[31mNameError\u001b[39m                                 Traceback (most recent call last)",
      "\u001b[36mCell\u001b[39m\u001b[36m \u001b[39m\u001b[32mIn[7]\u001b[39m\u001b[32m, line 1\u001b[39m\n\u001b[32m----> \u001b[39m\u001b[32m1\u001b[39m df = pd.DataFrame(\u001b[43mresults\u001b[49m, columns=[\u001b[33m\"\u001b[39m\u001b[33mSensitivity\u001b[39m\u001b[33m\"\u001b[39m, \u001b[33m\"\u001b[39m\u001b[33mSpecificity\u001b[39m\u001b[33m\"\u001b[39m, \u001b[33m\"\u001b[39m\u001b[33mPrecision\u001b[39m\u001b[33m\"\u001b[39m, \u001b[33m\"\u001b[39m\u001b[33mRecall\u001b[39m\u001b[33m\"\u001b[39m, \u001b[33m\"\u001b[39m\u001b[33mF1\u001b[39m\u001b[33m\"\u001b[39m, \u001b[33m\"\u001b[39m\u001b[33mAccuracy\u001b[39m\u001b[33m\"\u001b[39m])\n\u001b[32m      2\u001b[39m df.insert(\u001b[32m0\u001b[39m, \u001b[33m\"\u001b[39m\u001b[33mModels\u001b[39m\u001b[33m\"\u001b[39m, [\u001b[33mf\u001b[39m\u001b[33m\"\u001b[39m\u001b[33mM\u001b[39m\u001b[38;5;132;01m{\u001b[39;00mi+\u001b[32m1\u001b[39m\u001b[38;5;132;01m}\u001b[39;00m\u001b[33m\"\u001b[39m \u001b[38;5;28;01mfor\u001b[39;00m i \u001b[38;5;129;01min\u001b[39;00m \u001b[38;5;28mrange\u001b[39m(\u001b[38;5;28mlen\u001b[39m(model_names))])\n\u001b[32m      4\u001b[39m \u001b[38;5;66;03m# Simple Ensemble: average of all metrics\u001b[39;00m\n",
      "\u001b[31mNameError\u001b[39m: name 'results' is not defined"
     ]
    }
   ],
   "source": [
    "df = pd.DataFrame(results, columns=[\"Sensitivity\", \"Specificity\", \"Precision\", \"Recall\", \"F1\", \"Accuracy\"])\n",
    "df.insert(0, \"Models\", [f\"M{i+1}\" for i in range(len(model_names))])\n",
    "\n",
    "# Simple Ensemble: average of all metrics\n",
    "ensemble_row = df.iloc[:, 1:].mean().to_list()\n",
    "df.loc[len(df)] = [\"Ensemble\"] + ensemble_row\n",
    "\n",
    "df\n"
   ]
  },
  {
   "cell_type": "code",
   "execution_count": null,
   "id": "ae72c999",
   "metadata": {},
   "outputs": [],
   "source": [
    "df.to_csv(\"deepfake_model_metrics.csv\", index=False)"
   ]
  }
 ],
 "metadata": {
  "kernelspec": {
   "display_name": "env",
   "language": "python",
   "name": "python3"
  },
  "language_info": {
   "codemirror_mode": {
    "name": "ipython",
    "version": 3
   },
   "file_extension": ".py",
   "mimetype": "text/x-python",
   "name": "python",
   "nbconvert_exporter": "python",
   "pygments_lexer": "ipython3",
   "version": "3.12.10"
  }
 },
 "nbformat": 4,
 "nbformat_minor": 5
}
